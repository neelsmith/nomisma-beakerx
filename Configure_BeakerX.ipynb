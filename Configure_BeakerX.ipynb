{
 "cells": [
  {
   "cell_type": "markdown",
   "metadata": {},
   "source": [
    "## Try to configure JCenter in BeakerX\n"
   ]
  },
  {
   "cell_type": "code",
   "execution_count": 1,
   "metadata": {},
   "outputs": [
    {
     "name": "stdout",
     "output_type": "stream",
     "text": [
      "Added new repo: jcenterRepo\n"
     ]
    }
   ],
   "source": [
    "%classpath config resolver jcenterRepo https://jcenter.bintray.com"
   ]
  },
  {
   "cell_type": "code",
   "execution_count": 4,
   "metadata": {},
   "outputs": [
    {
     "data": {
      "application/vnd.jupyter.widget-view+json": {
       "model_id": "",
       "version_major": 2,
       "version_minor": 0
      },
      "method": "display_data"
     },
     "metadata": {},
     "output_type": "display_data"
    },
    {
     "data": {
      "application/vnd.jupyter.widget-view+json": {
       "model_id": "a112cb03-4baf-4498-9383-998dd482d2c2",
       "version_major": 2,
       "version_minor": 0
      },
      "method": "display_data"
     },
     "metadata": {},
     "output_type": "display_data"
    }
   ],
   "source": [
    "%classpath add mvn edu.holycross.shot.cite:xcite_2.12:4.2.0"
   ]
  },
  {
   "cell_type": "code",
   "execution_count": 9,
   "metadata": {},
   "outputs": [
    {
     "data": {
      "text/plain": [
       "urn:cts:greekLit:tlg0012.tlg001:"
      ]
     },
     "execution_count": 9,
     "metadata": {},
     "output_type": "execute_result"
    }
   ],
   "source": [
    "import edu.holycross.shot.cite._\n",
    "val iliadStr = \"urn:cts:greekLit:tlg0012.tlg001:\"\n",
    "\n"
   ]
  },
  {
   "cell_type": "code",
   "execution_count": 11,
   "metadata": {},
   "outputs": [
    {
     "ename": "java.lang.NoSuchMethodError",
     "evalue": " scala.Product.$init$(Lscala/Product;)V",
     "output_type": "error",
     "traceback": [
      "\u001b[1;31mjava.lang.NoSuchMethodError: scala.Product.$init$(Lscala/Product;)V\u001b[0;0m",
      "\u001b[1;31m  at edu.holycross.shot.cite.CtsUrn.<init>(CtsUrn.scala:13)\u001b[0;0m",
      "\u001b[1;31m  ... 50 elided\u001b[0;0m"
     ]
    }
   ],
   "source": [
    "// This is failing b/c of a Scala version mismatch.  We need to find what version BeakerX  uses in its kernel\n",
    "\n",
    "val iliadUrn = CtsUrn(iliadStr)"
   ]
  }
 ],
 "metadata": {
  "kernelspec": {
   "display_name": "Scala",
   "language": "scala",
   "name": "scala"
  },
  "language_info": {
   "codemirror_mode": "text/x-scala",
   "file_extension": ".scala",
   "mimetype": "",
   "name": "Scala",
   "nbconverter_exporter": "",
   "version": "2.11.12"
  },
  "toc": {
   "base_numbering": 1,
   "nav_menu": {},
   "number_sections": false,
   "sideBar": false,
   "skip_h1_title": false,
   "title_cell": "Table of Contents",
   "title_sidebar": "Contents",
   "toc_cell": false,
   "toc_position": {},
   "toc_section_display": false,
   "toc_window_display": false
  }
 },
 "nbformat": 4,
 "nbformat_minor": 2
}
